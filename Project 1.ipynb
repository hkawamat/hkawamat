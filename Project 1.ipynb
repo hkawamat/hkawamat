{
 "cells": [
  {
   "cell_type": "markdown",
   "metadata": {},
   "source": [
    "# Project 1\n",
    "\n",
    "- Analyze data to understand what type of apps are likely to attract more users"
   ]
  },
  {
   "cell_type": "markdown",
   "metadata": {},
   "source": [
    "**List_Dataset Function**:  \n",
    "  \n",
    "  _Opens, Reads, and Lists chosen File. Assigns to variables a full file, a header file, and a body file._"
   ]
  },
  {
   "cell_type": "code",
   "execution_count": 1,
   "metadata": {},
   "outputs": [],
   "source": [
    "def list_dataset(csvname):\n",
    "    opened_file = open(csvname, encoding = 'utf8')\n",
    "    from csv import reader\n",
    "    read_file = reader(opened_file)\n",
    "    listed_file = list(read_file)\n",
    "    header_of_file = listed_file[0]\n",
    "    body_of_file = listed_file[1:]\n",
    "    return listed_file, header_of_file, body_of_file\n",
    "    "
   ]
  },
  {
   "cell_type": "markdown",
   "metadata": {},
   "source": [
    "**Explore_Data Function:**  \n",
    "  \n",
    "  Takes in 4 parameters: the dataset, first row, last row, and sets the header being present false for the dataset  \n",
    "    \n",
    "  For each row in the selected rows in the dataset, it will be printed out. \n",
    "  \n",
    " If `rows_and_columns` is true, print the number of columns and rows while taking into account of the header. "
   ]
  },
  {
   "cell_type": "code",
   "execution_count": 2,
   "metadata": {},
   "outputs": [],
   "source": [
    "def explore_data(dataset, first_r, last_r, rows_and_columns = False):\n",
    "    a_dataset = dataset[first_r: last_r]\n",
    "    for row in a_dataset:\n",
    "        print(row) \n",
    "        print('\\n')\n",
    "    \n",
    "    if rows_and_columns:\n",
    "        print('Number of Columns: ', len(dataset[0])) # Number of Columns\n",
    "        print('Number of Rows: ', len(dataset), '\\n') # Number of Rows"
   ]
  },
  {
   "cell_type": "markdown",
   "metadata": {},
   "source": [
    "**Apple Store Data** - This prints out the Apple Store Data with the selected rows including header. The important columns to look at for our objective would be the track_name, price, rating_count_tot, user_rating, cont_rating, prime_genre"
   ]
  },
  {
   "cell_type": "code",
   "execution_count": 3,
   "metadata": {
    "scrolled": false
   },
   "outputs": [
    {
     "name": "stdout",
     "output_type": "stream",
     "text": [
      "Apple Store Data: \n",
      "\n",
      "['284882215', 'Facebook', '389879808', 'USD', '0.0', '2974676', '212', '3.5', '3.5', '95.0', '4+', 'Social Networking', '37', '1', '29', '1']\n",
      "\n",
      "\n",
      "['389801252', 'Instagram', '113954816', 'USD', '0.0', '2161558', '1289', '4.5', '4.0', '10.23', '12+', 'Photo & Video', '37', '0', '29', '1']\n",
      "\n",
      "\n",
      "['529479190', 'Clash of Clans', '116476928', 'USD', '0.0', '2130805', '579', '4.5', '4.5', '9.24.12', '9+', 'Games', '38', '5', '18', '1']\n",
      "\n",
      "\n",
      "['420009108', 'Temple Run', '65921024', 'USD', '0.0', '1724546', '3842', '4.5', '4.0', '1.6.2', '9+', 'Games', '40', '5', '1', '1']\n",
      "\n",
      "\n",
      "['284035177', 'Pandora - Music & Radio', '130242560', 'USD', '0.0', '1126879', '3594', '4.0', '4.5', '8.4.1', '12+', 'Music', '37', '4', '1', '1']\n",
      "\n",
      "\n",
      "Number of Columns:  16\n",
      "Number of Rows:  7197 \n",
      "\n",
      "['id', 'track_name', 'size_bytes', 'currency', 'price', 'rating_count_tot', 'rating_count_ver', 'user_rating', 'user_rating_ver', 'ver', 'cont_rating', 'prime_genre', 'sup_devices.num', 'ipadSc_urls.num', 'lang.num', 'vpp_lic']\n"
     ]
    }
   ],
   "source": [
    "a_new_data, a_header, a_body = list_dataset('AppleStore.csv')\n",
    "print('Apple Store Data: \\n')\n",
    "explore_data(a_body, 0, 5, True)\n",
    "print(a_header)"
   ]
  },
  {
   "cell_type": "markdown",
   "metadata": {},
   "source": [
    "**Google Play Store Data** - This prints out the Google Play Store data with the selected rows including header. The important columns to look at would be the app, category, rating, content rating, genres."
   ]
  },
  {
   "cell_type": "code",
   "execution_count": 4,
   "metadata": {},
   "outputs": [
    {
     "name": "stdout",
     "output_type": "stream",
     "text": [
      "Google Play Store Data: \n",
      "\n",
      "['Photo Editor & Candy Camera & Grid & ScrapBook', 'ART_AND_DESIGN', '4.1', '159', '19M', '10,000+', 'Free', '0', 'Everyone', 'Art & Design', 'January 7, 2018', '1.0.0', '4.0.3 and up']\n",
      "\n",
      "\n",
      "['Coloring book moana', 'ART_AND_DESIGN', '3.9', '967', '14M', '500,000+', 'Free', '0', 'Everyone', 'Art & Design;Pretend Play', 'January 15, 2018', '2.0.0', '4.0.3 and up']\n",
      "\n",
      "\n",
      "['U Launcher Lite – FREE Live Cool Themes, Hide Apps', 'ART_AND_DESIGN', '4.7', '87510', '8.7M', '5,000,000+', 'Free', '0', 'Everyone', 'Art & Design', 'August 1, 2018', '1.2.4', '4.0.3 and up']\n",
      "\n",
      "\n",
      "['Sketch - Draw & Paint', 'ART_AND_DESIGN', '4.5', '215644', '25M', '50,000,000+', 'Free', '0', 'Teen', 'Art & Design', 'June 8, 2018', 'Varies with device', '4.2 and up']\n",
      "\n",
      "\n",
      "['Pixel Draw - Number Art Coloring Book', 'ART_AND_DESIGN', '4.3', '967', '2.8M', '100,000+', 'Free', '0', 'Everyone', 'Art & Design;Creativity', 'June 20, 2018', '1.1', '4.4 and up']\n",
      "\n",
      "\n",
      "Number of Columns:  13\n",
      "Number of Rows:  10841 \n",
      "\n",
      "['App', 'Category', 'Rating', 'Reviews', 'Size', 'Installs', 'Type', 'Price', 'Content Rating', 'Genres', 'Last Updated', 'Current Ver', 'Android Ver']\n"
     ]
    }
   ],
   "source": [
    "print('Google Play Store Data: \\n')\n",
    "g_new_data, g_header, g_body = list_dataset('googleplaystore.csv')\n",
    "explore_data(g_body, 0, 5, True)\n",
    "print(g_header)"
   ]
  },
  {
   "cell_type": "markdown",
   "metadata": {},
   "source": [
    "**Row Entry:** The row entry 10472 has the category rating missing, to double check we check the length since the columns should indicate '13' and not '12'."
   ]
  },
  {
   "cell_type": "code",
   "execution_count": 5,
   "metadata": {},
   "outputs": [
    {
     "name": "stdout",
     "output_type": "stream",
     "text": [
      "['Life Made WI-Fi Touchscreen Photo Frame', '1.9', '19', '3.0M', '1,000+', 'Free', '0', 'Everyone', '', 'February 11, 2018', '1.0.19', '4.0 and up'] \n",
      "\n",
      "12\n"
     ]
    }
   ],
   "source": [
    "print(g_body[10472],'\\n')\n",
    "print(len(g_body[10472]))"
   ]
  },
  {
   "cell_type": "markdown",
   "metadata": {},
   "source": [
    "**Deleting the Entry:** We delete the entry 10472 and check the body length to make sure it was deleted"
   ]
  },
  {
   "cell_type": "code",
   "execution_count": 6,
   "metadata": {},
   "outputs": [
    {
     "name": "stdout",
     "output_type": "stream",
     "text": [
      "10840\n"
     ]
    }
   ],
   "source": [
    "del g_body[10472]\n",
    "print(len(g_body))"
   ]
  },
  {
   "cell_type": "markdown",
   "metadata": {},
   "source": [
    "**Identifying Duplicate Apps Function:**   \n",
    "  \n",
    "  We need to identify each duplicate app so we can delete it later on. Create two lists for unique and duplicate, we check each name to split them into two lists "
   ]
  },
  {
   "cell_type": "code",
   "execution_count": 7,
   "metadata": {},
   "outputs": [],
   "source": [
    "def IdentifyDuplicateApps(specific_body):\n",
    "    duplicate_list = []\n",
    "    unique_list = []\n",
    "    for row in specific_body:\n",
    "        name = row[0]\n",
    "        if name in unique_list:\n",
    "            duplicate_list.append(name)\n",
    "        else:\n",
    "            unique_list.append(name)\n",
    "    return duplicate_list, unique_list\n",
    "\n",
    "            \n",
    "            "
   ]
  },
  {
   "cell_type": "markdown",
   "metadata": {},
   "source": [
    "**Number of Duplicates:** Printing the number of duplicates and unique names for the GooglePlayStore"
   ]
  },
  {
   "cell_type": "code",
   "execution_count": 8,
   "metadata": {},
   "outputs": [
    {
     "name": "stdout",
     "output_type": "stream",
     "text": [
      "1181\n",
      "9659\n"
     ]
    }
   ],
   "source": [
    "g_duplicate_list, g_unique_list = IdentifyDuplicateApps(g_body)\n",
    "a_duplicate_list, a_unique_list = IdentifyDuplicateApps(a_body)\n",
    "\n",
    "print(len(g_duplicate_list))\n",
    "print(len(g_unique_list))\n"
   ]
  },
  {
   "cell_type": "markdown",
   "metadata": {},
   "source": [
    "**Creating a Non-Duplicate Dictionary:** Add the most updated number of reviews for each name into the `reviews_max` dictionary"
   ]
  },
  {
   "cell_type": "code",
   "execution_count": 9,
   "metadata": {},
   "outputs": [],
   "source": [
    "reviews_max = {}\n",
    "for row in g_body:\n",
    "    name = row[0]\n",
    "    n_reviews = float(row[3])\n",
    "    if name in reviews_max and reviews_max[name] < n_reviews:\n",
    "        reviews_max[name] = n_reviews\n",
    "    elif name :\n",
    "        reviews_max[name] = n_reviews\n"
   ]
  },
  {
   "cell_type": "markdown",
   "metadata": {},
   "source": [
    "**Creating a List of Non Duplicate Rows and a List of Names of each App:** Compare the list with Dictionary to make sure that a non-duplicate list of rows is made. "
   ]
  },
  {
   "cell_type": "code",
   "execution_count": 10,
   "metadata": {},
   "outputs": [],
   "source": [
    "android_clean = []\n",
    "already_added = []\n",
    "for row in g_body:\n",
    "    name = row[0]\n",
    "    n_reviews = float(row[3])\n",
    "    if n_reviews == reviews_max[name] and name not in already_added:\n",
    "        android_clean.append(row)\n",
    "        already_added.append(name)"
   ]
  },
  {
   "cell_type": "markdown",
   "metadata": {},
   "source": [
    "**Double Check on Rows and the results of `android_clean`:** Use `explore_data` function to check on the new list"
   ]
  },
  {
   "cell_type": "code",
   "execution_count": 11,
   "metadata": {
    "scrolled": true
   },
   "outputs": [
    {
     "name": "stdout",
     "output_type": "stream",
     "text": [
      "['Photo Editor & Candy Camera & Grid & ScrapBook', 'ART_AND_DESIGN', '4.1', '159', '19M', '10,000+', 'Free', '0', 'Everyone', 'Art & Design', 'January 7, 2018', '1.0.0', '4.0.3 and up']\n",
      "\n",
      "\n",
      "['U Launcher Lite – FREE Live Cool Themes, Hide Apps', 'ART_AND_DESIGN', '4.7', '87510', '8.7M', '5,000,000+', 'Free', '0', 'Everyone', 'Art & Design', 'August 1, 2018', '1.2.4', '4.0.3 and up']\n",
      "\n",
      "\n",
      "Number of Columns:  13\n",
      "Number of Rows:  9659 \n",
      "\n"
     ]
    }
   ],
   "source": [
    "explore_data(android_clean, 0, 2, True)"
   ]
  },
  {
   "cell_type": "markdown",
   "metadata": {},
   "source": [
    "**CheckEnglish Function:** Uses a counter to count the amount of non English characters, if there is more than 3 then it returns False"
   ]
  },
  {
   "cell_type": "code",
   "execution_count": 12,
   "metadata": {},
   "outputs": [],
   "source": [
    "def CheckEnglish(InputString):\n",
    "        \n",
    "    counter = 0\n",
    "    for character in InputString:\n",
    "        if ord(character) > 127:\n",
    "            counter += 1\n",
    "        \n",
    "    if counter > 3:\n",
    "        return False\n",
    "    \n",
    "    return True\n",
    "    "
   ]
  },
  {
   "cell_type": "code",
   "execution_count": 13,
   "metadata": {},
   "outputs": [
    {
     "name": "stdout",
     "output_type": "stream",
     "text": [
      "True\n"
     ]
    }
   ],
   "source": [
    "print(CheckEnglish('Docs To Go™ Free Office Suite'\n",
    "))"
   ]
  },
  {
   "cell_type": "markdown",
   "metadata": {},
   "source": [
    "**AppendEnglishRow Function:** Use the CheckEnglish function within this function, we add the row to the EnglishList if CheckEnglish for the name is True. "
   ]
  },
  {
   "cell_type": "code",
   "execution_count": 14,
   "metadata": {},
   "outputs": [],
   "source": [
    "def AppendEnglishRow(dataset):\n",
    "    g_EnglishList = []\n",
    "    for row in dataset:\n",
    "        name = row[0]\n",
    "        if CheckEnglish(name):\n",
    "            g_EnglishList.append(row)\n",
    "    return g_EnglishList"
   ]
  },
  {
   "cell_type": "code",
   "execution_count": 15,
   "metadata": {},
   "outputs": [],
   "source": [
    "GoogleStoreEnglishRowsList = AppendEnglishRow(android_clean)"
   ]
  },
  {
   "cell_type": "code",
   "execution_count": 16,
   "metadata": {},
   "outputs": [
    {
     "name": "stdout",
     "output_type": "stream",
     "text": [
      "9614\n",
      "Free\n"
     ]
    }
   ],
   "source": [
    "print(len(GoogleStoreEnglishRowsList))\n",
    "print(GoogleStoreEnglishRowsList[0][6])"
   ]
  },
  {
   "cell_type": "markdown",
   "metadata": {},
   "source": [
    "**FreeOrNot Function:** Split the dataset into two lists (Free Apps or Not) "
   ]
  },
  {
   "cell_type": "code",
   "execution_count": 17,
   "metadata": {},
   "outputs": [],
   "source": [
    "def FreeOrNot(dataset):\n",
    "    \n",
    "    g_FreeAppsList = []\n",
    "    g_NonFreeAppsList = []\n",
    "    \n",
    "    for row in dataset:\n",
    "        price = row[7]\n",
    "        \n",
    "        if price == '0':\n",
    "            g_FreeAppsList.append(row)\n",
    "        else:\n",
    "            g_NonFreeAppsList.append(row)\n",
    "\n",
    "    return g_FreeAppsList, g_NonFreeAppsList\n",
    "\n",
    "g_FreeAppsList, g_NonFreeAppsList = FreeOrNot(GoogleStoreEnglishRowsList)\n",
    "\n",
    "        "
   ]
  },
  {
   "cell_type": "code",
   "execution_count": 18,
   "metadata": {},
   "outputs": [
    {
     "name": "stdout",
     "output_type": "stream",
     "text": [
      "8864\n"
     ]
    }
   ],
   "source": [
    "print(len(g_FreeAppsList))"
   ]
  },
  {
   "cell_type": "markdown",
   "metadata": {},
   "source": [
    "We need to analyze and find app profiles that fit both the App Store and Google Play\n",
    "So we can create a smaller version of it and see how well it does as a beta. We could generate frequency tables for columns genre, prime_genre, and category"
   ]
  },
  {
   "cell_type": "code",
   "execution_count": 27,
   "metadata": {},
   "outputs": [],
   "source": [
    "def freq_table(dataset, index):\n",
    "    freq_table = {}\n",
    "    freq_counter = 0\n",
    "    \n",
    "    for row in dataset:\n",
    "        category = row[index]\n",
    "        freq_counter += 1\n",
    "        \n",
    "        if category in freq_table:\n",
    "            freq_table[category] += 1\n",
    "        else:\n",
    "            freq_table[category] = 1\n",
    "        \n",
    "    freq_table_percentage = {}\n",
    "        \n",
    "    for key in freq_table:\n",
    "        percentage = (freq_table[key]/ freq_counter) * 100\n",
    "        freq_table_percentage[key] = percentage\n",
    "    \n",
    "    return freq_table_percentage\n",
    "\n",
    "def display_table(dataset, index):\n",
    "    table = freq_table(dataset, index)\n",
    "    table_display = []\n",
    "    for key in table:\n",
    "        key_val_as_tuple = (table[key], key)\n",
    "        table_display.append(key_val_as_tuple)\n",
    "        \n",
    "    table_sorted = sorted(table_display, reverse = True)\n",
    "    for entry in table_sorted:\n",
    "        print(entry[1], ':', entry[0])\n"
   ]
  },
  {
   "cell_type": "code",
   "execution_count": 29,
   "metadata": {},
   "outputs": [
    {
     "name": "stdout",
     "output_type": "stream",
     "text": [
      "FAMILY : 19.223826714801444\n",
      "GAME : 9.510379061371841\n",
      "TOOLS : 8.461191335740072\n",
      "BUSINESS : 4.580324909747293\n",
      "LIFESTYLE : 3.9034296028880866\n",
      "PRODUCTIVITY : 3.892148014440433\n",
      "FINANCE : 3.7003610108303246\n",
      "MEDICAL : 3.5424187725631766\n",
      "SPORTS : 3.4183212996389893\n",
      "PERSONALIZATION : 3.3167870036101084\n",
      "COMMUNICATION : 3.2490974729241873\n",
      "HEALTH_AND_FITNESS : 3.068592057761733\n",
      "PHOTOGRAPHY : 2.944494584837545\n",
      "NEWS_AND_MAGAZINES : 2.7978339350180503\n",
      "SOCIAL : 2.6624548736462095\n",
      "TRAVEL_AND_LOCAL : 2.33528880866426\n",
      "SHOPPING : 2.2450361010830324\n",
      "BOOKS_AND_REFERENCE : 2.1435018050541514\n",
      "DATING : 1.861462093862816\n",
      "VIDEO_PLAYERS : 1.782490974729242\n",
      "MAPS_AND_NAVIGATION : 1.3989169675090252\n",
      "FOOD_AND_DRINK : 1.2409747292418771\n",
      "EDUCATION : 1.128158844765343\n",
      "LIBRARIES_AND_DEMO : 0.9363718411552346\n",
      "AUTO_AND_VEHICLES : 0.9250902527075812\n",
      "ENTERTAINMENT : 0.8799638989169676\n",
      "HOUSE_AND_HOME : 0.8235559566787004\n",
      "WEATHER : 0.8009927797833934\n",
      "EVENTS : 0.7107400722021661\n",
      "PARENTING : 0.6543321299638989\n",
      "ART_AND_DESIGN : 0.6430505415162455\n",
      "COMICS : 0.6204873646209386\n",
      "BEAUTY : 0.5979241877256317\n"
     ]
    }
   ],
   "source": [
    "display_table(g_FreeAppsList, 1)"
   ]
  },
  {
   "cell_type": "code",
   "execution_count": null,
   "metadata": {},
   "outputs": [],
   "source": [
    "11/14 Page"
   ]
  }
 ],
 "metadata": {
  "kernelspec": {
   "display_name": "Python 3",
   "language": "python",
   "name": "python3"
  },
  "language_info": {
   "codemirror_mode": {
    "name": "ipython",
    "version": 3
   },
   "file_extension": ".py",
   "mimetype": "text/x-python",
   "name": "python",
   "nbconvert_exporter": "python",
   "pygments_lexer": "ipython3",
   "version": "3.8.5"
  }
 },
 "nbformat": 4,
 "nbformat_minor": 4
}
