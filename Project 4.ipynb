{
 "cells": [
  {
   "cell_type": "markdown",
   "metadata": {},
   "source": [
    "# Heavy Traffic Indicators I-94 "
   ]
  },
  {
   "cell_type": "markdown",
   "metadata": {},
   "source": [
    "### We are going to analyze the I-94 dataset, so we can figure out how traffic is westbound."
   ]
  },
  {
   "cell_type": "code",
   "execution_count": 1,
   "metadata": {},
   "outputs": [],
   "source": [
    "import pandas as pd"
   ]
  },
  {
   "cell_type": "code",
   "execution_count": 2,
   "metadata": {},
   "outputs": [],
   "source": [
    "import matplotlib.pyplot as plt"
   ]
  },
  {
   "cell_type": "code",
   "execution_count": 3,
   "metadata": {},
   "outputs": [],
   "source": [
    "import seaborn as sns"
   ]
  },
  {
   "cell_type": "code",
   "execution_count": 4,
   "metadata": {},
   "outputs": [],
   "source": [
    "traffic = pd.read_csv('Metro_Interstate_Traffic_Volume.csv')"
   ]
  },
  {
   "cell_type": "code",
   "execution_count": 5,
   "metadata": {},
   "outputs": [
    {
     "data": {
      "text/html": [
       "<div>\n",
       "<style scoped>\n",
       "    .dataframe tbody tr th:only-of-type {\n",
       "        vertical-align: middle;\n",
       "    }\n",
       "\n",
       "    .dataframe tbody tr th {\n",
       "        vertical-align: top;\n",
       "    }\n",
       "\n",
       "    .dataframe thead th {\n",
       "        text-align: right;\n",
       "    }\n",
       "</style>\n",
       "<table border=\"1\" class=\"dataframe\">\n",
       "  <thead>\n",
       "    <tr style=\"text-align: right;\">\n",
       "      <th></th>\n",
       "      <th>holiday</th>\n",
       "      <th>temp</th>\n",
       "      <th>rain_1h</th>\n",
       "      <th>snow_1h</th>\n",
       "      <th>clouds_all</th>\n",
       "      <th>weather_main</th>\n",
       "      <th>weather_description</th>\n",
       "      <th>date_time</th>\n",
       "      <th>traffic_volume</th>\n",
       "    </tr>\n",
       "  </thead>\n",
       "  <tbody>\n",
       "    <tr>\n",
       "      <th>0</th>\n",
       "      <td>None</td>\n",
       "      <td>288.28</td>\n",
       "      <td>0.0</td>\n",
       "      <td>0.0</td>\n",
       "      <td>40</td>\n",
       "      <td>Clouds</td>\n",
       "      <td>scattered clouds</td>\n",
       "      <td>10/2/2012 9:00</td>\n",
       "      <td>5545</td>\n",
       "    </tr>\n",
       "    <tr>\n",
       "      <th>1</th>\n",
       "      <td>None</td>\n",
       "      <td>289.36</td>\n",
       "      <td>0.0</td>\n",
       "      <td>0.0</td>\n",
       "      <td>75</td>\n",
       "      <td>Clouds</td>\n",
       "      <td>broken clouds</td>\n",
       "      <td>10/2/2012 10:00</td>\n",
       "      <td>4516</td>\n",
       "    </tr>\n",
       "    <tr>\n",
       "      <th>2</th>\n",
       "      <td>None</td>\n",
       "      <td>289.58</td>\n",
       "      <td>0.0</td>\n",
       "      <td>0.0</td>\n",
       "      <td>90</td>\n",
       "      <td>Clouds</td>\n",
       "      <td>overcast clouds</td>\n",
       "      <td>10/2/2012 11:00</td>\n",
       "      <td>4767</td>\n",
       "    </tr>\n",
       "    <tr>\n",
       "      <th>3</th>\n",
       "      <td>None</td>\n",
       "      <td>290.13</td>\n",
       "      <td>0.0</td>\n",
       "      <td>0.0</td>\n",
       "      <td>90</td>\n",
       "      <td>Clouds</td>\n",
       "      <td>overcast clouds</td>\n",
       "      <td>10/2/2012 12:00</td>\n",
       "      <td>5026</td>\n",
       "    </tr>\n",
       "    <tr>\n",
       "      <th>4</th>\n",
       "      <td>None</td>\n",
       "      <td>291.14</td>\n",
       "      <td>0.0</td>\n",
       "      <td>0.0</td>\n",
       "      <td>75</td>\n",
       "      <td>Clouds</td>\n",
       "      <td>broken clouds</td>\n",
       "      <td>10/2/2012 13:00</td>\n",
       "      <td>4918</td>\n",
       "    </tr>\n",
       "  </tbody>\n",
       "</table>\n",
       "</div>"
      ],
      "text/plain": [
       "  holiday    temp  rain_1h  snow_1h  clouds_all weather_main  \\\n",
       "0    None  288.28      0.0      0.0          40       Clouds   \n",
       "1    None  289.36      0.0      0.0          75       Clouds   \n",
       "2    None  289.58      0.0      0.0          90       Clouds   \n",
       "3    None  290.13      0.0      0.0          90       Clouds   \n",
       "4    None  291.14      0.0      0.0          75       Clouds   \n",
       "\n",
       "  weather_description        date_time  traffic_volume  \n",
       "0    scattered clouds   10/2/2012 9:00            5545  \n",
       "1       broken clouds  10/2/2012 10:00            4516  \n",
       "2     overcast clouds  10/2/2012 11:00            4767  \n",
       "3     overcast clouds  10/2/2012 12:00            5026  \n",
       "4       broken clouds  10/2/2012 13:00            4918  "
      ]
     },
     "execution_count": 5,
     "metadata": {},
     "output_type": "execute_result"
    }
   ],
   "source": [
    "traffic.head()"
   ]
  },
  {
   "cell_type": "code",
   "execution_count": 6,
   "metadata": {},
   "outputs": [
    {
     "data": {
      "text/html": [
       "<div>\n",
       "<style scoped>\n",
       "    .dataframe tbody tr th:only-of-type {\n",
       "        vertical-align: middle;\n",
       "    }\n",
       "\n",
       "    .dataframe tbody tr th {\n",
       "        vertical-align: top;\n",
       "    }\n",
       "\n",
       "    .dataframe thead th {\n",
       "        text-align: right;\n",
       "    }\n",
       "</style>\n",
       "<table border=\"1\" class=\"dataframe\">\n",
       "  <thead>\n",
       "    <tr style=\"text-align: right;\">\n",
       "      <th></th>\n",
       "      <th>holiday</th>\n",
       "      <th>temp</th>\n",
       "      <th>rain_1h</th>\n",
       "      <th>snow_1h</th>\n",
       "      <th>clouds_all</th>\n",
       "      <th>weather_main</th>\n",
       "      <th>weather_description</th>\n",
       "      <th>date_time</th>\n",
       "      <th>traffic_volume</th>\n",
       "    </tr>\n",
       "  </thead>\n",
       "  <tbody>\n",
       "    <tr>\n",
       "      <th>48199</th>\n",
       "      <td>None</td>\n",
       "      <td>283.45</td>\n",
       "      <td>0.0</td>\n",
       "      <td>0.0</td>\n",
       "      <td>75</td>\n",
       "      <td>Clouds</td>\n",
       "      <td>broken clouds</td>\n",
       "      <td>9/30/2018 19:00</td>\n",
       "      <td>3543</td>\n",
       "    </tr>\n",
       "    <tr>\n",
       "      <th>48200</th>\n",
       "      <td>None</td>\n",
       "      <td>282.76</td>\n",
       "      <td>0.0</td>\n",
       "      <td>0.0</td>\n",
       "      <td>90</td>\n",
       "      <td>Clouds</td>\n",
       "      <td>overcast clouds</td>\n",
       "      <td>9/30/2018 20:00</td>\n",
       "      <td>2781</td>\n",
       "    </tr>\n",
       "    <tr>\n",
       "      <th>48201</th>\n",
       "      <td>None</td>\n",
       "      <td>282.73</td>\n",
       "      <td>0.0</td>\n",
       "      <td>0.0</td>\n",
       "      <td>90</td>\n",
       "      <td>Thunderstorm</td>\n",
       "      <td>proximity thunderstorm</td>\n",
       "      <td>9/30/2018 21:00</td>\n",
       "      <td>2159</td>\n",
       "    </tr>\n",
       "    <tr>\n",
       "      <th>48202</th>\n",
       "      <td>None</td>\n",
       "      <td>282.09</td>\n",
       "      <td>0.0</td>\n",
       "      <td>0.0</td>\n",
       "      <td>90</td>\n",
       "      <td>Clouds</td>\n",
       "      <td>overcast clouds</td>\n",
       "      <td>9/30/2018 22:00</td>\n",
       "      <td>1450</td>\n",
       "    </tr>\n",
       "    <tr>\n",
       "      <th>48203</th>\n",
       "      <td>None</td>\n",
       "      <td>282.12</td>\n",
       "      <td>0.0</td>\n",
       "      <td>0.0</td>\n",
       "      <td>90</td>\n",
       "      <td>Clouds</td>\n",
       "      <td>overcast clouds</td>\n",
       "      <td>9/30/2018 23:00</td>\n",
       "      <td>954</td>\n",
       "    </tr>\n",
       "  </tbody>\n",
       "</table>\n",
       "</div>"
      ],
      "text/plain": [
       "      holiday    temp  rain_1h  snow_1h  clouds_all  weather_main  \\\n",
       "48199    None  283.45      0.0      0.0          75        Clouds   \n",
       "48200    None  282.76      0.0      0.0          90        Clouds   \n",
       "48201    None  282.73      0.0      0.0          90  Thunderstorm   \n",
       "48202    None  282.09      0.0      0.0          90        Clouds   \n",
       "48203    None  282.12      0.0      0.0          90        Clouds   \n",
       "\n",
       "          weather_description        date_time  traffic_volume  \n",
       "48199           broken clouds  9/30/2018 19:00            3543  \n",
       "48200         overcast clouds  9/30/2018 20:00            2781  \n",
       "48201  proximity thunderstorm  9/30/2018 21:00            2159  \n",
       "48202         overcast clouds  9/30/2018 22:00            1450  \n",
       "48203         overcast clouds  9/30/2018 23:00             954  "
      ]
     },
     "execution_count": 6,
     "metadata": {},
     "output_type": "execute_result"
    }
   ],
   "source": [
    "traffic.tail()\n"
   ]
  },
  {
   "cell_type": "code",
   "execution_count": 7,
   "metadata": {},
   "outputs": [
    {
     "name": "stdout",
     "output_type": "stream",
     "text": [
      "<class 'pandas.core.frame.DataFrame'>\n",
      "RangeIndex: 48204 entries, 0 to 48203\n",
      "Data columns (total 9 columns):\n",
      " #   Column               Non-Null Count  Dtype  \n",
      "---  ------               --------------  -----  \n",
      " 0   holiday              48204 non-null  object \n",
      " 1   temp                 48204 non-null  float64\n",
      " 2   rain_1h              48204 non-null  float64\n",
      " 3   snow_1h              48204 non-null  float64\n",
      " 4   clouds_all           48204 non-null  int64  \n",
      " 5   weather_main         48204 non-null  object \n",
      " 6   weather_description  48204 non-null  object \n",
      " 7   date_time            48204 non-null  object \n",
      " 8   traffic_volume       48204 non-null  int64  \n",
      "dtypes: float64(3), int64(2), object(4)\n",
      "memory usage: 3.3+ MB\n"
     ]
    }
   ],
   "source": [
    "traffic.info()"
   ]
  },
  {
   "cell_type": "markdown",
   "metadata": {},
   "source": [
    "We are going to create a histogram to get a gist of how traffic is going westbound on I-94"
   ]
  },
  {
   "cell_type": "code",
   "execution_count": 8,
   "metadata": {},
   "outputs": [
    {
     "data": {
      "image/png": "[encoded data removed]",
      "text/plain": [
       "<Figure size 432x288 with 1 Axes>"
      ]
     },
     "metadata": {
      "needs_background": "light"
     },
     "output_type": "display_data"
    }
   ],
   "source": [
    "%matplotlib inline\n",
    "traffic['traffic_volume'].plot.hist()\n",
    "plt.show()"
   ]
  },
  {
   "cell_type": "code",
   "execution_count": 9,
   "metadata": {
    "scrolled": true
   },
   "outputs": [
    {
     "data": {
      "text/plain": [
       "count    48204.000000\n",
       "mean      3259.818355\n",
       "std       1986.860670\n",
       "min          0.000000\n",
       "25%       1193.000000\n",
       "50%       3380.000000\n",
       "75%       4933.000000\n",
       "max       7280.000000\n",
       "Name: traffic_volume, dtype: float64"
      ]
     },
     "execution_count": 9,
     "metadata": {},
     "output_type": "execute_result"
    }
   ],
   "source": [
    "traffic['traffic_volume'].describe()"
   ]
  },
  {
   "cell_type": "markdown",
   "metadata": {},
   "source": [
    "Looks like from the histogram and describe(), we can say that 25% of the time there is less than or equal to 1193 cars and 25% of the time there is more than or equal to 4933 cars"
   ]
  },
  {
   "cell_type": "code",
   "execution_count": 10,
   "metadata": {},
   "outputs": [],
   "source": [
    "traffic['date_time'] = pd.to_datetime(traffic['date_time'])"
   ]
  },
  {
   "cell_type": "code",
   "execution_count": 11,
   "metadata": {},
   "outputs": [],
   "source": [
    "traffic_day = traffic.copy()[(traffic['date_time'].dt.hour >= 7) & (traffic['date_time'].dt.hour < 19)] "
   ]
  },
  {
   "cell_type": "code",
   "execution_count": 12,
   "metadata": {},
   "outputs": [],
   "source": [
    "traffic_night = traffic.copy()[(traffic['date_time'].dt.hour >= 19) | (traffic['date_time'].dt.hour < 7)]"
   ]
  },
  {
   "cell_type": "markdown",
   "metadata": {},
   "source": [
    "We have changed the 'date_time' column to date time and have made it display by the hour. Then, we split the data from day time (7am to 7pm) to night time (7pm - 7am)."
   ]
  },
  {
   "cell_type": "code",
   "execution_count": 13,
   "metadata": {},
   "outputs": [
    {
     "data": {
      "image/png": "[encoded data removed]",
      "text/plain": [
       "<Figure size 432x288 with 1 Axes>"
      ]
     },
     "metadata": {
      "needs_background": "light"
     },
     "output_type": "display_data"
    }
   ],
   "source": [
    "traffic_day['traffic_volume'].plot.hist()\n",
    "plt.xlabel('Amount of Cars')\n",
    "plt.ylabel('Frequency of Amount of Cars')\n",
    "plt.xlim(0, 8000)\n",
    "plt.ylim(0, 8000)\n",
    "plt.show()"
   ]
  },
  {
   "cell_type": "code",
   "execution_count": 14,
   "metadata": {},
   "outputs": [
    {
     "data": {
      "text/plain": [
       "count    23877.000000\n",
       "mean      4762.047452\n",
       "std       1174.546482\n",
       "min          0.000000\n",
       "25%       4252.000000\n",
       "50%       4820.000000\n",
       "75%       5559.000000\n",
       "max       7280.000000\n",
       "Name: traffic_volume, dtype: float64"
      ]
     },
     "execution_count": 14,
     "metadata": {},
     "output_type": "execute_result"
    }
   ],
   "source": [
    "traffic_day['traffic_volume'].describe()\n"
   ]
  },
  {
   "cell_type": "code",
   "execution_count": 15,
   "metadata": {},
   "outputs": [
    {
     "data": {
      "image/png": "[encoded data removed]",
      "text/plain": [
       "<Figure size 432x288 with 1 Axes>"
      ]
     },
     "metadata": {
      "needs_background": "light"
     },
     "output_type": "display_data"
    }
   ],
   "source": [
    "traffic_night['traffic_volume'].plot.hist()\n",
    "plt.xlabel('Amount of Cars')\n",
    "plt.ylabel('Frequency of Amount of Cars')\n",
    "plt.xlim(0, 8000)\n",
    "plt.ylim(0, 8000)\n",
    "plt.show()"
   ]
  },
  {
   "cell_type": "code",
   "execution_count": 16,
   "metadata": {},
   "outputs": [
    {
     "data": {
      "text/plain": [
       "count    24327.000000\n",
       "mean      1785.377441\n",
       "std       1441.951197\n",
       "min          0.000000\n",
       "25%        530.000000\n",
       "50%       1287.000000\n",
       "75%       2819.000000\n",
       "max       6386.000000\n",
       "Name: traffic_volume, dtype: float64"
      ]
     },
     "execution_count": 16,
     "metadata": {},
     "output_type": "execute_result"
    }
   ],
   "source": [
    "traffic_night['traffic_volume'].describe()\n"
   ]
  },
  {
   "cell_type": "markdown",
   "metadata": {},
   "source": [
    "Looking at the graphs and the describe function, the data can be interpreted as traffic at night tends to be much less than traffic during the day. Traffic during the day has a mean of 4762 cars while traffic at night has a mean of 1785 cars. If we are going to look into heavy traffic, we can concentrate on the traffic during the day. "
   ]
  },
  {
   "cell_type": "code",
   "execution_count": 17,
   "metadata": {},
   "outputs": [],
   "source": [
    "traffic_day['month'] = traffic_day['date_time'].dt.month"
   ]
  },
  {
   "cell_type": "code",
   "execution_count": 18,
   "metadata": {},
   "outputs": [],
   "source": [
    "traffic_by_month = traffic_day.groupby('month').mean()"
   ]
  },
  {
   "cell_type": "code",
   "execution_count": 19,
   "metadata": {},
   "outputs": [
    {
     "data": {
      "text/html": [
       "<div>\n",
       "<style scoped>\n",
       "    .dataframe tbody tr th:only-of-type {\n",
       "        vertical-align: middle;\n",
       "    }\n",
       "\n",
       "    .dataframe tbody tr th {\n",
       "        vertical-align: top;\n",
       "    }\n",
       "\n",
       "    .dataframe thead th {\n",
       "        text-align: right;\n",
       "    }\n",
       "</style>\n",
       "<table border=\"1\" class=\"dataframe\">\n",
       "  <thead>\n",
       "    <tr style=\"text-align: right;\">\n",
       "      <th></th>\n",
       "      <th>temp</th>\n",
       "      <th>rain_1h</th>\n",
       "      <th>snow_1h</th>\n",
       "      <th>clouds_all</th>\n",
       "      <th>traffic_volume</th>\n",
       "    </tr>\n",
       "    <tr>\n",
       "      <th>month</th>\n",
       "      <th></th>\n",
       "      <th></th>\n",
       "      <th></th>\n",
       "      <th></th>\n",
       "      <th></th>\n",
       "    </tr>\n",
       "  </thead>\n",
       "  <tbody>\n",
       "    <tr>\n",
       "      <th>1</th>\n",
       "      <td>265.483409</td>\n",
       "      <td>0.015080</td>\n",
       "      <td>0.000631</td>\n",
       "      <td>58.554108</td>\n",
       "      <td>4495.613727</td>\n",
       "    </tr>\n",
       "    <tr>\n",
       "      <th>2</th>\n",
       "      <td>266.663789</td>\n",
       "      <td>0.004019</td>\n",
       "      <td>0.000000</td>\n",
       "      <td>51.550459</td>\n",
       "      <td>4711.198394</td>\n",
       "    </tr>\n",
       "    <tr>\n",
       "      <th>3</th>\n",
       "      <td>273.619940</td>\n",
       "      <td>0.015839</td>\n",
       "      <td>0.000000</td>\n",
       "      <td>56.827811</td>\n",
       "      <td>4889.409560</td>\n",
       "    </tr>\n",
       "    <tr>\n",
       "      <th>4</th>\n",
       "      <td>279.661071</td>\n",
       "      <td>0.105343</td>\n",
       "      <td>0.000000</td>\n",
       "      <td>59.221525</td>\n",
       "      <td>4906.894305</td>\n",
       "    </tr>\n",
       "    <tr>\n",
       "      <th>5</th>\n",
       "      <td>289.282668</td>\n",
       "      <td>0.130863</td>\n",
       "      <td>0.000000</td>\n",
       "      <td>56.548825</td>\n",
       "      <td>4911.121609</td>\n",
       "    </tr>\n",
       "    <tr>\n",
       "      <th>6</th>\n",
       "      <td>294.576068</td>\n",
       "      <td>0.271121</td>\n",
       "      <td>0.000000</td>\n",
       "      <td>48.612374</td>\n",
       "      <td>4898.019566</td>\n",
       "    </tr>\n",
       "    <tr>\n",
       "      <th>7</th>\n",
       "      <td>296.785052</td>\n",
       "      <td>4.412258</td>\n",
       "      <td>0.000000</td>\n",
       "      <td>42.176619</td>\n",
       "      <td>4595.035744</td>\n",
       "    </tr>\n",
       "    <tr>\n",
       "      <th>8</th>\n",
       "      <td>295.119191</td>\n",
       "      <td>0.228113</td>\n",
       "      <td>0.000000</td>\n",
       "      <td>42.556892</td>\n",
       "      <td>4928.302035</td>\n",
       "    </tr>\n",
       "    <tr>\n",
       "      <th>9</th>\n",
       "      <td>292.520287</td>\n",
       "      <td>0.289807</td>\n",
       "      <td>0.000000</td>\n",
       "      <td>45.184112</td>\n",
       "      <td>4870.783145</td>\n",
       "    </tr>\n",
       "    <tr>\n",
       "      <th>10</th>\n",
       "      <td>284.081011</td>\n",
       "      <td>0.016065</td>\n",
       "      <td>0.000000</td>\n",
       "      <td>53.497990</td>\n",
       "      <td>4921.234922</td>\n",
       "    </tr>\n",
       "    <tr>\n",
       "      <th>11</th>\n",
       "      <td>276.698007</td>\n",
       "      <td>0.006200</td>\n",
       "      <td>0.000000</td>\n",
       "      <td>56.697187</td>\n",
       "      <td>4704.094319</td>\n",
       "    </tr>\n",
       "    <tr>\n",
       "      <th>12</th>\n",
       "      <td>267.727846</td>\n",
       "      <td>0.035365</td>\n",
       "      <td>0.002213</td>\n",
       "      <td>66.942237</td>\n",
       "      <td>4374.834566</td>\n",
       "    </tr>\n",
       "  </tbody>\n",
       "</table>\n",
       "</div>"
      ],
      "text/plain": [
       "             temp   rain_1h   snow_1h  clouds_all  traffic_volume\n",
       "month                                                            \n",
       "1      265.483409  0.015080  0.000631   58.554108     4495.613727\n",
       "2      266.663789  0.004019  0.000000   51.550459     4711.198394\n",
       "3      273.619940  0.015839  0.000000   56.827811     4889.409560\n",
       "4      279.661071  0.105343  0.000000   59.221525     4906.894305\n",
       "5      289.282668  0.130863  0.000000   56.548825     4911.121609\n",
       "6      294.576068  0.271121  0.000000   48.612374     4898.019566\n",
       "7      296.785052  4.412258  0.000000   42.176619     4595.035744\n",
       "8      295.119191  0.228113  0.000000   42.556892     4928.302035\n",
       "9      292.520287  0.289807  0.000000   45.184112     4870.783145\n",
       "10     284.081011  0.016065  0.000000   53.497990     4921.234922\n",
       "11     276.698007  0.006200  0.000000   56.697187     4704.094319\n",
       "12     267.727846  0.035365  0.002213   66.942237     4374.834566"
      ]
     },
     "execution_count": 19,
     "metadata": {},
     "output_type": "execute_result"
    }
   ],
   "source": [
    "traffic_by_month"
   ]
  },
  {
   "cell_type": "code",
   "execution_count": 20,
   "metadata": {},
   "outputs": [
    {
     "data": {
      "image/png": "[encoded data removed]",
      "text/plain": [
       "<Figure size 432x288 with 1 Axes>"
      ]
     },
     "metadata": {
      "needs_background": "light"
     },
     "output_type": "display_data"
    }
   ],
   "source": [
    "traffic_by_month['traffic_volume'].plot.line()\n",
    "plt.show()"
   ]
  },
  {
   "cell_type": "markdown",
   "metadata": {},
   "source": [
    "Traffic tends to consistently be above 4300 for every month, however traffic is the highest during the months of March to June and August to November. The months of January, July, and December seem to be the lowest. It may be due to weather as there is less traffic during colder months such as December to February. Wile the explanation for July could be that there are multiple vacations during those times that take employees away from driving during those months as well as students no longer having school. "
   ]
  },
  {
   "cell_type": "code",
   "execution_count": 22,
   "metadata": {},
   "outputs": [],
   "source": [
    "traffic_day['dayofweek'] = traffic_day['date_time'].dt.dayofweek\n",
    "traffic_dow = traffic_day.groupby('dayofweek').mean()"
   ]
  },
  {
   "cell_type": "code",
   "execution_count": 23,
   "metadata": {},
   "outputs": [
    {
     "data": {
      "text/html": [
       "<div>\n",
       "<style scoped>\n",
       "    .dataframe tbody tr th:only-of-type {\n",
       "        vertical-align: middle;\n",
       "    }\n",
       "\n",
       "    .dataframe tbody tr th {\n",
       "        vertical-align: top;\n",
       "    }\n",
       "\n",
       "    .dataframe thead th {\n",
       "        text-align: right;\n",
       "    }\n",
       "</style>\n",
       "<table border=\"1\" class=\"dataframe\">\n",
       "  <thead>\n",
       "    <tr style=\"text-align: right;\">\n",
       "      <th></th>\n",
       "      <th>temp</th>\n",
       "      <th>rain_1h</th>\n",
       "      <th>snow_1h</th>\n",
       "      <th>clouds_all</th>\n",
       "      <th>traffic_volume</th>\n",
       "      <th>month</th>\n",
       "    </tr>\n",
       "    <tr>\n",
       "      <th>dayofweek</th>\n",
       "      <th></th>\n",
       "      <th></th>\n",
       "      <th></th>\n",
       "      <th></th>\n",
       "      <th></th>\n",
       "      <th></th>\n",
       "    </tr>\n",
       "  </thead>\n",
       "  <tbody>\n",
       "    <tr>\n",
       "      <th>0</th>\n",
       "      <td>282.262755</td>\n",
       "      <td>2.923823</td>\n",
       "      <td>0.000017</td>\n",
       "      <td>57.508053</td>\n",
       "      <td>4893.551286</td>\n",
       "      <td>6.401243</td>\n",
       "    </tr>\n",
       "    <tr>\n",
       "      <th>1</th>\n",
       "      <td>282.301770</td>\n",
       "      <td>0.129172</td>\n",
       "      <td>0.000194</td>\n",
       "      <td>52.333234</td>\n",
       "      <td>5189.004782</td>\n",
       "      <td>6.458757</td>\n",
       "    </tr>\n",
       "    <tr>\n",
       "      <th>2</th>\n",
       "      <td>282.198316</td>\n",
       "      <td>0.068099</td>\n",
       "      <td>0.001091</td>\n",
       "      <td>53.662119</td>\n",
       "      <td>5284.454282</td>\n",
       "      <td>6.619158</td>\n",
       "    </tr>\n",
       "    <tr>\n",
       "      <th>3</th>\n",
       "      <td>282.279115</td>\n",
       "      <td>0.172436</td>\n",
       "      <td>0.000148</td>\n",
       "      <td>53.993191</td>\n",
       "      <td>5311.303730</td>\n",
       "      <td>6.501184</td>\n",
       "    </tr>\n",
       "    <tr>\n",
       "      <th>4</th>\n",
       "      <td>282.181216</td>\n",
       "      <td>0.092828</td>\n",
       "      <td>0.000225</td>\n",
       "      <td>51.412200</td>\n",
       "      <td>5291.600829</td>\n",
       "      <td>6.575067</td>\n",
       "    </tr>\n",
       "    <tr>\n",
       "      <th>5</th>\n",
       "      <td>282.300646</td>\n",
       "      <td>0.107596</td>\n",
       "      <td>0.000094</td>\n",
       "      <td>50.446376</td>\n",
       "      <td>3927.249558</td>\n",
       "      <td>6.498821</td>\n",
       "    </tr>\n",
       "    <tr>\n",
       "      <th>6</th>\n",
       "      <td>282.280340</td>\n",
       "      <td>0.133170</td>\n",
       "      <td>0.000000</td>\n",
       "      <td>52.288699</td>\n",
       "      <td>3436.541789</td>\n",
       "      <td>6.604179</td>\n",
       "    </tr>\n",
       "  </tbody>\n",
       "</table>\n",
       "</div>"
      ],
      "text/plain": [
       "                 temp   rain_1h   snow_1h  clouds_all  traffic_volume  \\\n",
       "dayofweek                                                               \n",
       "0          282.262755  2.923823  0.000017   57.508053     4893.551286   \n",
       "1          282.301770  0.129172  0.000194   52.333234     5189.004782   \n",
       "2          282.198316  0.068099  0.001091   53.662119     5284.454282   \n",
       "3          282.279115  0.172436  0.000148   53.993191     5311.303730   \n",
       "4          282.181216  0.092828  0.000225   51.412200     5291.600829   \n",
       "5          282.300646  0.107596  0.000094   50.446376     3927.249558   \n",
       "6          282.280340  0.133170  0.000000   52.288699     3436.541789   \n",
       "\n",
       "              month  \n",
       "dayofweek            \n",
       "0          6.401243  \n",
       "1          6.458757  \n",
       "2          6.619158  \n",
       "3          6.501184  \n",
       "4          6.575067  \n",
       "5          6.498821  \n",
       "6          6.604179  "
      ]
     },
     "execution_count": 23,
     "metadata": {},
     "output_type": "execute_result"
    }
   ],
   "source": [
    "traffic_dow"
   ]
  },
  {
   "cell_type": "code",
   "execution_count": 24,
   "metadata": {},
   "outputs": [
    {
     "data": {
      "image/png": "[encoded data removed]",
      "text/plain": [
       "<Figure size 432x288 with 1 Axes>"
      ]
     },
     "metadata": {
      "needs_background": "light"
     },
     "output_type": "display_data"
    }
   ],
   "source": [
    "traffic_dow['traffic_volume'].plot.line()\n",
    "plt.show()"
   ]
  },
  {
   "cell_type": "markdown",
   "metadata": {},
   "source": [
    "Traffic tends to be the most during work weeks while during weekends it dies down by about a 1000 - 1500 cars. This would make sense since this would mean there is no work rush hour due to companies being closed on weekends."
   ]
  },
  {
   "cell_type": "code",
   "execution_count": 25,
   "metadata": {},
   "outputs": [],
   "source": [
    "traffic_day['hour'] = traffic_day['date_time'].dt.hour\n",
    "business_day = traffic_day[traffic_day['dayofweek'] <= 4]\n",
    "weekend_day = traffic_day[traffic_day['dayofweek'] >= 5]\n",
    "business_by_hour = business_day.groupby('hour').mean()\n",
    "weekend_by_hour = weekend_day.groupby('hour').mean()"
   ]
  },
  {
   "cell_type": "code",
   "execution_count": 27,
   "metadata": {},
   "outputs": [
    {
     "data": {
      "text/html": [
       "<div>\n",
       "<style scoped>\n",
       "    .dataframe tbody tr th:only-of-type {\n",
       "        vertical-align: middle;\n",
       "    }\n",
       "\n",
       "    .dataframe tbody tr th {\n",
       "        vertical-align: top;\n",
       "    }\n",
       "\n",
       "    .dataframe thead th {\n",
       "        text-align: right;\n",
       "    }\n",
       "</style>\n",
       "<table border=\"1\" class=\"dataframe\">\n",
       "  <thead>\n",
       "    <tr style=\"text-align: right;\">\n",
       "      <th></th>\n",
       "      <th>temp</th>\n",
       "      <th>rain_1h</th>\n",
       "      <th>snow_1h</th>\n",
       "      <th>clouds_all</th>\n",
       "      <th>traffic_volume</th>\n",
       "      <th>month</th>\n",
       "      <th>dayofweek</th>\n",
       "    </tr>\n",
       "    <tr>\n",
       "      <th>hour</th>\n",
       "      <th></th>\n",
       "      <th></th>\n",
       "      <th></th>\n",
       "      <th></th>\n",
       "      <th></th>\n",
       "      <th></th>\n",
       "      <th></th>\n",
       "    </tr>\n",
       "  </thead>\n",
       "  <tbody>\n",
       "    <tr>\n",
       "      <th>7</th>\n",
       "      <td>278.662639</td>\n",
       "      <td>0.145105</td>\n",
       "      <td>0.000068</td>\n",
       "      <td>50.538983</td>\n",
       "      <td>6030.413559</td>\n",
       "      <td>6.363390</td>\n",
       "      <td>1.984407</td>\n",
       "    </tr>\n",
       "    <tr>\n",
       "      <th>8</th>\n",
       "      <td>278.938443</td>\n",
       "      <td>0.144614</td>\n",
       "      <td>0.000135</td>\n",
       "      <td>53.666441</td>\n",
       "      <td>5503.497970</td>\n",
       "      <td>6.567659</td>\n",
       "      <td>1.989175</td>\n",
       "    </tr>\n",
       "    <tr>\n",
       "      <th>9</th>\n",
       "      <td>279.628421</td>\n",
       "      <td>0.156829</td>\n",
       "      <td>0.000139</td>\n",
       "      <td>53.619709</td>\n",
       "      <td>4895.269257</td>\n",
       "      <td>6.484386</td>\n",
       "      <td>1.981263</td>\n",
       "    </tr>\n",
       "    <tr>\n",
       "      <th>10</th>\n",
       "      <td>280.664650</td>\n",
       "      <td>0.113984</td>\n",
       "      <td>0.000033</td>\n",
       "      <td>54.781417</td>\n",
       "      <td>4378.419118</td>\n",
       "      <td>6.481283</td>\n",
       "      <td>1.957888</td>\n",
       "    </tr>\n",
       "    <tr>\n",
       "      <th>11</th>\n",
       "      <td>281.850231</td>\n",
       "      <td>0.151976</td>\n",
       "      <td>0.000000</td>\n",
       "      <td>52.808876</td>\n",
       "      <td>4633.419470</td>\n",
       "      <td>6.448819</td>\n",
       "      <td>1.979957</td>\n",
       "    </tr>\n",
       "    <tr>\n",
       "      <th>12</th>\n",
       "      <td>282.832763</td>\n",
       "      <td>0.090271</td>\n",
       "      <td>0.001543</td>\n",
       "      <td>53.855714</td>\n",
       "      <td>4855.382143</td>\n",
       "      <td>6.569286</td>\n",
       "      <td>1.989286</td>\n",
       "    </tr>\n",
       "    <tr>\n",
       "      <th>13</th>\n",
       "      <td>283.292447</td>\n",
       "      <td>0.092433</td>\n",
       "      <td>0.000370</td>\n",
       "      <td>53.325444</td>\n",
       "      <td>4859.180473</td>\n",
       "      <td>6.465237</td>\n",
       "      <td>1.982988</td>\n",
       "    </tr>\n",
       "    <tr>\n",
       "      <th>14</th>\n",
       "      <td>284.091787</td>\n",
       "      <td>0.102991</td>\n",
       "      <td>0.000746</td>\n",
       "      <td>55.326531</td>\n",
       "      <td>5152.995778</td>\n",
       "      <td>6.588318</td>\n",
       "      <td>1.990852</td>\n",
       "    </tr>\n",
       "    <tr>\n",
       "      <th>15</th>\n",
       "      <td>284.450605</td>\n",
       "      <td>0.090036</td>\n",
       "      <td>0.000274</td>\n",
       "      <td>54.168467</td>\n",
       "      <td>5592.897768</td>\n",
       "      <td>6.541397</td>\n",
       "      <td>1.962563</td>\n",
       "    </tr>\n",
       "    <tr>\n",
       "      <th>16</th>\n",
       "      <td>284.399011</td>\n",
       "      <td>0.118180</td>\n",
       "      <td>0.000632</td>\n",
       "      <td>54.444132</td>\n",
       "      <td>6189.473647</td>\n",
       "      <td>6.580464</td>\n",
       "      <td>1.995081</td>\n",
       "    </tr>\n",
       "    <tr>\n",
       "      <th>17</th>\n",
       "      <td>284.263033</td>\n",
       "      <td>7.299358</td>\n",
       "      <td>0.000000</td>\n",
       "      <td>55.204960</td>\n",
       "      <td>5784.827133</td>\n",
       "      <td>6.510576</td>\n",
       "      <td>1.994165</td>\n",
       "    </tr>\n",
       "    <tr>\n",
       "      <th>18</th>\n",
       "      <td>284.388061</td>\n",
       "      <td>0.121533</td>\n",
       "      <td>0.000125</td>\n",
       "      <td>54.183079</td>\n",
       "      <td>4434.209431</td>\n",
       "      <td>6.529126</td>\n",
       "      <td>1.988211</td>\n",
       "    </tr>\n",
       "  </tbody>\n",
       "</table>\n",
       "</div>"
      ],
      "text/plain": [
       "            temp   rain_1h   snow_1h  clouds_all  traffic_volume     month  \\\n",
       "hour                                                                         \n",
       "7     278.662639  0.145105  0.000068   50.538983     6030.413559  6.363390   \n",
       "8     278.938443  0.144614  0.000135   53.666441     5503.497970  6.567659   \n",
       "9     279.628421  0.156829  0.000139   53.619709     4895.269257  6.484386   \n",
       "10    280.664650  0.113984  0.000033   54.781417     4378.419118  6.481283   \n",
       "11    281.850231  0.151976  0.000000   52.808876     4633.419470  6.448819   \n",
       "12    282.832763  0.090271  0.001543   53.855714     4855.382143  6.569286   \n",
       "13    283.292447  0.092433  0.000370   53.325444     4859.180473  6.465237   \n",
       "14    284.091787  0.102991  0.000746   55.326531     5152.995778  6.588318   \n",
       "15    284.450605  0.090036  0.000274   54.168467     5592.897768  6.541397   \n",
       "16    284.399011  0.118180  0.000632   54.444132     6189.473647  6.580464   \n",
       "17    284.263033  7.299358  0.000000   55.204960     5784.827133  6.510576   \n",
       "18    284.388061  0.121533  0.000125   54.183079     4434.209431  6.529126   \n",
       "\n",
       "      dayofweek  \n",
       "hour             \n",
       "7      1.984407  \n",
       "8      1.989175  \n",
       "9      1.981263  \n",
       "10     1.957888  \n",
       "11     1.979957  \n",
       "12     1.989286  \n",
       "13     1.982988  \n",
       "14     1.990852  \n",
       "15     1.962563  \n",
       "16     1.995081  \n",
       "17     1.994165  \n",
       "18     1.988211  "
      ]
     },
     "execution_count": 27,
     "metadata": {},
     "output_type": "execute_result"
    }
   ],
   "source": [
    "business_by_hour"
   ]
  },
  {
   "cell_type": "code",
   "execution_count": 39,
   "metadata": {},
   "outputs": [
    {
     "data": {
      "image/png": "[encoded data removed]",
      "text/plain": [
       "<Figure size 432x288 with 1 Axes>"
      ]
     },
     "metadata": {
      "needs_background": "light"
     },
     "output_type": "display_data"
    }
   ],
   "source": [
    "business_by_hour['traffic_volume'].plot.line()\n",
    "plt.ylim(3500, 7000)\n",
    "plt.title('Traffic during Business Days\\' by the Hour')\n",
    "plt.show()\n"
   ]
  },
  {
   "cell_type": "code",
   "execution_count": 29,
   "metadata": {},
   "outputs": [
    {
     "data": {
      "text/html": [
       "<div>\n",
       "<style scoped>\n",
       "    .dataframe tbody tr th:only-of-type {\n",
       "        vertical-align: middle;\n",
       "    }\n",
       "\n",
       "    .dataframe tbody tr th {\n",
       "        vertical-align: top;\n",
       "    }\n",
       "\n",
       "    .dataframe thead th {\n",
       "        text-align: right;\n",
       "    }\n",
       "</style>\n",
       "<table border=\"1\" class=\"dataframe\">\n",
       "  <thead>\n",
       "    <tr style=\"text-align: right;\">\n",
       "      <th></th>\n",
       "      <th>temp</th>\n",
       "      <th>rain_1h</th>\n",
       "      <th>snow_1h</th>\n",
       "      <th>clouds_all</th>\n",
       "      <th>traffic_volume</th>\n",
       "      <th>month</th>\n",
       "      <th>dayofweek</th>\n",
       "    </tr>\n",
       "    <tr>\n",
       "      <th>hour</th>\n",
       "      <th></th>\n",
       "      <th></th>\n",
       "      <th></th>\n",
       "      <th></th>\n",
       "      <th></th>\n",
       "      <th></th>\n",
       "      <th></th>\n",
       "    </tr>\n",
       "  </thead>\n",
       "  <tbody>\n",
       "    <tr>\n",
       "      <th>7</th>\n",
       "      <td>278.095331</td>\n",
       "      <td>0.291540</td>\n",
       "      <td>0.000000</td>\n",
       "      <td>50.006623</td>\n",
       "      <td>1589.365894</td>\n",
       "      <td>6.518212</td>\n",
       "      <td>5.501656</td>\n",
       "    </tr>\n",
       "    <tr>\n",
       "      <th>8</th>\n",
       "      <td>277.981017</td>\n",
       "      <td>0.083870</td>\n",
       "      <td>0.000083</td>\n",
       "      <td>48.877076</td>\n",
       "      <td>2338.578073</td>\n",
       "      <td>6.523256</td>\n",
       "      <td>5.503322</td>\n",
       "    </tr>\n",
       "    <tr>\n",
       "      <th>9</th>\n",
       "      <td>279.785660</td>\n",
       "      <td>0.075234</td>\n",
       "      <td>0.000364</td>\n",
       "      <td>49.688042</td>\n",
       "      <td>3111.623917</td>\n",
       "      <td>6.603120</td>\n",
       "      <td>5.492201</td>\n",
       "    </tr>\n",
       "    <tr>\n",
       "      <th>10</th>\n",
       "      <td>280.403811</td>\n",
       "      <td>0.079674</td>\n",
       "      <td>0.000103</td>\n",
       "      <td>48.915808</td>\n",
       "      <td>3686.632302</td>\n",
       "      <td>6.491409</td>\n",
       "      <td>5.503436</td>\n",
       "    </tr>\n",
       "    <tr>\n",
       "      <th>11</th>\n",
       "      <td>282.129355</td>\n",
       "      <td>0.141387</td>\n",
       "      <td>0.000000</td>\n",
       "      <td>52.372973</td>\n",
       "      <td>4044.154955</td>\n",
       "      <td>6.482883</td>\n",
       "      <td>5.491892</td>\n",
       "    </tr>\n",
       "    <tr>\n",
       "      <th>12</th>\n",
       "      <td>282.936119</td>\n",
       "      <td>0.095784</td>\n",
       "      <td>0.000000</td>\n",
       "      <td>51.418018</td>\n",
       "      <td>4372.482883</td>\n",
       "      <td>6.500901</td>\n",
       "      <td>5.493694</td>\n",
       "    </tr>\n",
       "    <tr>\n",
       "      <th>13</th>\n",
       "      <td>283.784951</td>\n",
       "      <td>0.180452</td>\n",
       "      <td>0.000000</td>\n",
       "      <td>53.095841</td>\n",
       "      <td>4362.296564</td>\n",
       "      <td>6.580470</td>\n",
       "      <td>5.497288</td>\n",
       "    </tr>\n",
       "    <tr>\n",
       "      <th>14</th>\n",
       "      <td>284.663261</td>\n",
       "      <td>0.087847</td>\n",
       "      <td>0.000000</td>\n",
       "      <td>52.735401</td>\n",
       "      <td>4358.543796</td>\n",
       "      <td>6.644161</td>\n",
       "      <td>5.500000</td>\n",
       "    </tr>\n",
       "    <tr>\n",
       "      <th>15</th>\n",
       "      <td>284.854578</td>\n",
       "      <td>0.074771</td>\n",
       "      <td>0.000000</td>\n",
       "      <td>52.148624</td>\n",
       "      <td>4342.456881</td>\n",
       "      <td>6.612844</td>\n",
       "      <td>5.506422</td>\n",
       "    </tr>\n",
       "    <tr>\n",
       "      <th>16</th>\n",
       "      <td>284.755487</td>\n",
       "      <td>0.145894</td>\n",
       "      <td>0.000000</td>\n",
       "      <td>53.630088</td>\n",
       "      <td>4339.693805</td>\n",
       "      <td>6.566372</td>\n",
       "      <td>5.507965</td>\n",
       "    </tr>\n",
       "    <tr>\n",
       "      <th>17</th>\n",
       "      <td>284.760020</td>\n",
       "      <td>0.135783</td>\n",
       "      <td>0.000000</td>\n",
       "      <td>53.064057</td>\n",
       "      <td>4151.919929</td>\n",
       "      <td>6.571174</td>\n",
       "      <td>5.508897</td>\n",
       "    </tr>\n",
       "    <tr>\n",
       "      <th>18</th>\n",
       "      <td>284.308607</td>\n",
       "      <td>0.040956</td>\n",
       "      <td>0.000000</td>\n",
       "      <td>50.948529</td>\n",
       "      <td>3811.792279</td>\n",
       "      <td>6.531250</td>\n",
       "      <td>5.496324</td>\n",
       "    </tr>\n",
       "  </tbody>\n",
       "</table>\n",
       "</div>"
      ],
      "text/plain": [
       "            temp   rain_1h   snow_1h  clouds_all  traffic_volume     month  \\\n",
       "hour                                                                         \n",
       "7     278.095331  0.291540  0.000000   50.006623     1589.365894  6.518212   \n",
       "8     277.981017  0.083870  0.000083   48.877076     2338.578073  6.523256   \n",
       "9     279.785660  0.075234  0.000364   49.688042     3111.623917  6.603120   \n",
       "10    280.403811  0.079674  0.000103   48.915808     3686.632302  6.491409   \n",
       "11    282.129355  0.141387  0.000000   52.372973     4044.154955  6.482883   \n",
       "12    282.936119  0.095784  0.000000   51.418018     4372.482883  6.500901   \n",
       "13    283.784951  0.180452  0.000000   53.095841     4362.296564  6.580470   \n",
       "14    284.663261  0.087847  0.000000   52.735401     4358.543796  6.644161   \n",
       "15    284.854578  0.074771  0.000000   52.148624     4342.456881  6.612844   \n",
       "16    284.755487  0.145894  0.000000   53.630088     4339.693805  6.566372   \n",
       "17    284.760020  0.135783  0.000000   53.064057     4151.919929  6.571174   \n",
       "18    284.308607  0.040956  0.000000   50.948529     3811.792279  6.531250   \n",
       "\n",
       "      dayofweek  \n",
       "hour             \n",
       "7      5.501656  \n",
       "8      5.503322  \n",
       "9      5.492201  \n",
       "10     5.503436  \n",
       "11     5.491892  \n",
       "12     5.493694  \n",
       "13     5.497288  \n",
       "14     5.500000  \n",
       "15     5.506422  \n",
       "16     5.507965  \n",
       "17     5.508897  \n",
       "18     5.496324  "
      ]
     },
     "execution_count": 29,
     "metadata": {},
     "output_type": "execute_result"
    }
   ],
   "source": [
    "weekend_by_hour"
   ]
  },
  {
   "cell_type": "code",
   "execution_count": 40,
   "metadata": {},
   "outputs": [
    {
     "data": {
      "image/png": "[encoded data removed]",
      "text/plain": [
       "<Figure size 432x288 with 1 Axes>"
      ]
     },
     "metadata": {
      "needs_background": "light"
     },
     "output_type": "display_data"
    }
   ],
   "source": [
    "weekend_by_hour['traffic_volume'].plot.line()\n",
    "plt.ylim(3500, 7000)\n",
    "plt.title('Traffic during Weekend Days\\' by the Hour')\n",
    "plt.show()"
   ]
  },
  {
   "cell_type": "markdown",
   "metadata": {},
   "source": [
    "By isolating the weekdays, we can see that rush hour tends be around 7 and 16. During these times, the traffic volume eclipses 6000 and the weekday graph displays the marginal traffic difference compared to the weekends."
   ]
  },
  {
   "cell_type": "code",
   "execution_count": 47,
   "metadata": {},
   "outputs": [
    {
     "data": {
      "text/plain": [
       "temp              0.128317\n",
       "rain_1h           0.003697\n",
       "snow_1h           0.001265\n",
       "clouds_all       -0.032932\n",
       "traffic_volume    1.000000\n",
       "month            -0.022337\n",
       "dayofweek        -0.416453\n",
       "hour              0.172704\n",
       "Name: traffic_volume, dtype: float64"
      ]
     },
     "execution_count": 47,
     "metadata": {},
     "output_type": "execute_result"
    }
   ],
   "source": [
    "corr_traffic_day = traffic_day.corr().loc[:, 'traffic_volume']\n"
   ]
  },
  {
   "cell_type": "code",
   "execution_count": 54,
   "metadata": {},
   "outputs": [
    {
     "data": {
      "image/png": "[encoded data removed]",
      "text/plain": [
       "<Figure size 432x288 with 1 Axes>"
      ]
     },
     "metadata": {
      "needs_background": "light"
     },
     "output_type": "display_data"
    }
   ],
   "source": [
    "traffic_day.plot.scatter('traffic_volume', 'temp')\n",
    "plt.ylim(200, 350)\n",
    "plt.show()"
   ]
  },
  {
   "cell_type": "markdown",
   "metadata": {},
   "source": [
    "It seems that the strongest correlation is the positive correlation with temperature, the higher the temperature the bigger the traffic. However, the correlation strength is .128 which indicates that it is not relatively a strong correlation. With the graph, we can assume that the correlation is not strong enough to be accounted for. "
   ]
  },
  {
   "cell_type": "markdown",
   "metadata": {},
   "source": [
    "There seems to be no other category that presents a strong enough correlation to prove whether or not certain weather types affects traffic volume"
   ]
  },
  {
   "cell_type": "code",
   "execution_count": 55,
   "metadata": {},
   "outputs": [],
   "source": [
    "weather_main = traffic_day.groupby('weather_main').mean()\n",
    "weather_description = traffic_day.groupby('weather_description').mean()"
   ]
  },
  {
   "cell_type": "code",
   "execution_count": 56,
   "metadata": {},
   "outputs": [
    {
     "data": {
      "image/png": "[encoded data removed]",
      "text/plain": [
       "<Figure size 432x288 with 1 Axes>"
      ]
     },
     "metadata": {
      "needs_background": "light"
     },
     "output_type": "display_data"
    }
   ],
   "source": [
    "weather_main['traffic_volume'].plot.barh()\n",
    "plt.show()"
   ]
  },
  {
   "cell_type": "markdown",
   "metadata": {},
   "source": [
    "There is no category or weather that proves that there is a clear correlation on the increase or decrease of traffic volume"
   ]
  },
  {
   "cell_type": "code",
   "execution_count": 61,
   "metadata": {},
   "outputs": [
    {
     "data": {
      "image/png": "[encoded data removed]",
      "text/plain": [
       "<Figure size 720x1080 with 1 Axes>"
      ]
     },
     "metadata": {
      "needs_background": "light"
     },
     "output_type": "display_data"
    }
   ],
   "source": [
    "weather_description['traffic_volume'].plot.barh(figsize = (10, 15))\n",
    "plt.show()"
   ]
  },
  {
   "cell_type": "markdown",
   "metadata": {},
   "source": [
    "Shower snow, light rain and snow, and thunderstorm with light drizzle are presented as a weathertype with 5000 or more cars. This could mean road closures during bad weather which would result in single paths to where people are headed to during that day. "
   ]
  },
  {
   "cell_type": "markdown",
   "metadata": {},
   "source": [
    "# Conclusion  \n",
    "\n",
    "We come to the conclusion that there a few indicators that cause higher amounts of traffic on the I - 94 Westbound, one indicator would be weather being that shower snow, light rain and snow, and thunderstorm with light drizzle causes more than 5000+ numbers of cars to pile up. We could also say during certain months that there are clearly more traffic, as well as more traffic being caused during certain hours of the day and certain days of the week. \n",
    "  "
   ]
  }
 ],
 "metadata": {
  "kernelspec": {
   "display_name": "Python 3",
   "language": "python",
   "name": "python3"
  },
  "language_info": {
   "codemirror_mode": {
    "name": "ipython",
    "version": 3
   },
   "file_extension": ".py",
   "mimetype": "text/x-python",
   "name": "python",
   "nbconvert_exporter": "python",
   "pygments_lexer": "ipython3",
   "version": "3.8.5"
  }
 },
 "nbformat": 4,
 "nbformat_minor": 4
}
